{
 "cells": [
  {
   "cell_type": "code",
   "execution_count": 59,
   "metadata": {
    "collapsed": false,
    "scrolled": true
   },
   "outputs": [],
   "source": [
    "#question 2\n",
    "\n",
    "class WordFrequency(object):\n",
    "    \"\"\"\n",
    "    Analyses files to genrate a dictionary that has words and their frequencies\n",
    "    \"\"\"\n",
    "    \n",
    "    def __init__(self):\n",
    "        self.freq_dict = {}\n",
    "        self.special_character = \",./;<>?:{}[]\\1234567890!@#%^&*()-_=+\"\n",
    "    \n",
    "    def getFreq(self,key):\n",
    "        \"\"\"Input the word you want to check for\"\"\"\n",
    "        \n",
    "        if key in self.freq_dict:\n",
    "            return self.freq_dict[key] \n",
    "        else:\n",
    "            return(False)\n",
    "    \n",
    "    def analyzeFile(self, filename):\n",
    "        \"\"\"\n",
    "        After initialization this method of class analyzes the file given in argument\n",
    "        \n",
    "        Keyword arguments:\n",
    "        filename : file you want to analyze\n",
    "        \"\"\"\n",
    "        \n",
    "        self.freq_dict = {}\n",
    "        file_obj = open(filename,'r')\n",
    "        all_lines = file_obj.readlines()\n",
    "        for line in all_lines:\n",
    "            clean_line = self._clean(line)\n",
    "            words = clean_line.split(' ')\n",
    "            for word in words:\n",
    "                if word in self.freq_dict: self.freq_dict[word] += 1\n",
    "                else: self.freq_dict[word] = 1\n",
    "    \n",
    "    def _clean(self, string):\n",
    "        \"\"\"Cleans string from special characters and punctuations\"\"\"\n",
    "        \n",
    "        string = string.replace(\"\\n\",'')\n",
    "        string = string.lower()\n",
    "        for character in self.special_character: string = string.replace(character,'')\n",
    "        return string\n",
    "        \n",
    "\n",
    "if __name__==\"main\":\n",
    "\n",
    "    calculator = WordFrequency()\n",
    "    calculator.analyzeFile(\"test_file.txt\")\n",
    "    print(calculator.getFreq(input(\"Enter the word for its frequency : \")))\n",
    "    "
   ]
  },
  {
   "cell_type": "code",
   "execution_count": 7,
   "metadata": {
    "collapsed": false
   },
   "outputs": [
    {
     "name": "stdout",
     "output_type": "stream",
     "text": [
      "[' 3', '9']\n"
     ]
    },
    {
     "data": {
      "text/plain": [
       "[2, 3, 4, 5, 6, 7, 8, 9, 10]"
      ]
     },
     "execution_count": 7,
     "metadata": {},
     "output_type": "execute_result"
    }
   ],
   "source": [
    "#question 3\n",
    "\n",
    "def NumberList(string):\n",
    "    num_list = string.split(',')\n",
    "    final_list = []\n",
    "    for i in num_list:\n",
    "        if \"-\" in i:\n",
    "            points = i.split('-')\n",
    "            print(points)\n",
    "            for j in list(range(int(points[0]), int(points[1]) + 1)): final_list.append(j)\n",
    "        else:\n",
    "            final_list.append(int(i.strip()))\n",
    "    final_list.sort()\n",
    "    return (final_list)\n",
    "    \n",
    "    \n",
    "NumberList('10, 2, 3-9')"
   ]
  },
  {
   "cell_type": "code",
   "execution_count": null,
   "metadata": {
    "collapsed": true
   },
   "outputs": [],
   "source": [
    "# question 4"
   ]
  }
 ],
 "metadata": {
  "anaconda-cloud": {},
  "kernelspec": {
   "display_name": "Python [Root]",
   "language": "python",
   "name": "Python [Root]"
  },
  "language_info": {
   "codemirror_mode": {
    "name": "ipython",
    "version": 3
   },
   "file_extension": ".py",
   "mimetype": "text/x-python",
   "name": "python",
   "nbconvert_exporter": "python",
   "pygments_lexer": "ipython3",
   "version": "3.5.2"
  }
 },
 "nbformat": 4,
 "nbformat_minor": 0
}
