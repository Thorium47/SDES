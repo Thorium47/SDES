{
 "cells": [
  {
   "cell_type": "code",
   "execution_count": 59,
   "metadata": {
    "collapsed": false,
    "scrolled": true
   },
   "outputs": [],
   "source": [
    "#question 2\n",
    "\n",
    "class WordFrequency(object):\n",
    "    \"\"\"\n",
    "    Analyses files to genrate a dictionary that has words and their frequencies\n",
    "    \"\"\"\n",
    "    \n",
    "    def __init__(self):\n",
    "        self.freq_dict = {}\n",
    "        self.special_character = \",./;<>?:{}[]\\1234567890!@#%^&*()-_=+\"\n",
    "    \n",
    "    def getFreq(self,key):\n",
    "        \"\"\"Input the word you want to check for\"\"\"\n",
    "        \n",
    "        if key in self.freq_dict:\n",
    "            return self.freq_dict[key] \n",
    "        else:\n",
    "            return(False)\n",
    "    \n",
    "    def analyzeFile(self, filename):\n",
    "        \"\"\"\n",
    "        After initialization this method of class analyzes the file given in argument\n",
    "        \n",
    "        Keyword arguments:\n",
    "        filename : file you want to analyze\n",
    "        \"\"\"\n",
    "        \n",
    "        self.freq_dict = {}\n",
    "        file_obj = open(filename,'r')\n",
    "        all_lines = file_obj.readlines()\n",
    "        for line in all_lines:\n",
    "            clean_line = self._clean(line)\n",
    "            words = clean_line.split(' ')\n",
    "            for word in words:\n",
    "                if word in self.freq_dict: self.freq_dict[word] += 1\n",
    "                else: self.freq_dict[word] = 1\n",
    "    \n",
    "    def _clean(self, string):\n",
    "        \"\"\"Cleans string from special characters and punctuations\"\"\"\n",
    "        \n",
    "        string = string.replace(\"\\n\",'')\n",
    "        string = string.lower()\n",
    "        for character in self.special_character: string = string.replace(character,'')\n",
    "        return string\n",
    "        \n",
    "\n",
    "if __name__==\"main\":\n",
    "\n",
    "    calculator = WordFrequency()\n",
    "    calculator.analyzeFile(\"test_file.txt\")\n",
    "    print(calculator.getFreq(input(\"Enter the word for its frequency : \")))\n",
    "    "
   ]
  },
  {
   "cell_type": "code",
   "execution_count": null,
   "metadata": {
    "collapsed": true
   },
   "outputs": [],
   "source": []
  },
  {
   "cell_type": "code",
   "execution_count": null,
   "metadata": {
    "collapsed": true
   },
   "outputs": [],
   "source": []
  }
 ],
 "metadata": {
  "kernelspec": {
   "display_name": "Python [Root]",
   "language": "python",
   "name": "Python [Root]"
  },
  "language_info": {
   "codemirror_mode": {
    "name": "ipython",
    "version": 3
   },
   "file_extension": ".py",
   "mimetype": "text/x-python",
   "name": "python",
   "nbconvert_exporter": "python",
   "pygments_lexer": "ipython3",
   "version": "3.5.2"
  }
 },
 "nbformat": 4,
 "nbformat_minor": 0
}
