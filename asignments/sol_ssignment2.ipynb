{
 "cells": [
  {
   "cell_type": "code",
   "execution_count": 1,
   "metadata": {
    "collapsed": false
   },
   "outputs": [
    {
     "name": "stdout",
     "output_type": "stream",
     "text": [
      "10\n"
     ]
    }
   ],
   "source": [
    "def small_number(a,b):\n",
    "    if a-b<0: return a\n",
    "    else: return b\n",
    "\n",
    "def gcd(a,b):\n",
    "    common_divisor = 1\n",
    "    for i in range(1,small_number(a,b)):\n",
    "        if a%i==0 and b%i==0:\n",
    "            common_divisor = i\n",
    "    return common_divisor\n",
    "\n",
    "print(gcd(50,40))"
   ]
  },
  {
   "cell_type": "code",
   "execution_count": 3,
   "metadata": {
    "collapsed": true
   },
   "outputs": [],
   "source": [
    "Tweet = [{'created_at': \"Thu May 26 12:57:52 + 0000 2016\", \"id\": \"587421684315\", \"id_str\":\"654564534684\", \"text\":\"@rahul what are you trying to do\", \"source\": \"href\", \"truncated\":False,\"in_reply_to_status\":\"I'm going home\",\"follwers\" : 500, \"location\": \"CA\", \"Created_location\":\"India\", \"lang\": \"eng\", \"hashtag\":[\"hash1\",\"has2\"]},{'created_at': \"Thu May 26 12:57:52 + 0000 2016\", \"id\": \"587421684315\", \"id_str\":\"654564534684\", \"text\":\"okay! go away\", \"source\": \"href\", \"truncated\":False,\"in_reply_to_status\":\"I'm going home\",\"follwers\" : 1000, \"location\": \"CA\", \"Created_location\":\"India\", \"lang\": \"span\", \"hashtag\":[\"hash1\",\"has2\"]}]"
   ]
  },
  {
   "cell_type": "code",
   "execution_count": 6,
   "metadata": {
    "collapsed": false
   },
   "outputs": [
    {
     "name": "stdout",
     "output_type": "stream",
     "text": [
      "@rahul what are you trying to do\n",
      "okay! go away\n"
     ]
    }
   ],
   "source": [
    "for data in Tweet:\n",
    "    if data[\"location\"]==\"CA\":\n",
    "        print(data[\"text\"])"
   ]
  },
  {
   "cell_type": "code",
   "execution_count": 39,
   "metadata": {
    "collapsed": false,
    "scrolled": true
   },
   "outputs": [
    {
     "name": "stdout",
     "output_type": "stream",
     "text": [
      "True\n"
     ]
    },
    {
     "data": {
      "text/plain": [
       "[('__init__', <unbound method Pet.__init__>),\n",
       " ('__str__', <unbound method Pet.__str__>),\n",
       " ('getName', <unbound method Pet.getName>),\n",
       " ('getSpecies', <unbound method Pet.getSpecies>),\n",
       " ('play', <unbound method Pet.play>)]"
      ]
     },
     "execution_count": 39,
     "metadata": {},
     "output_type": "execute_result"
    }
   ],
   "source": [
    "class Pet(object):\n",
    "\n",
    "    def __init__(self, name, species):\n",
    "        self.name = name\n",
    "        self.species = species\n",
    "\n",
    "    def getName(self):\n",
    "        hair_color = \"Blue\"\n",
    "        return self.name\n",
    "\n",
    "    def getSpecies(self):\n",
    "        return self.species\n",
    "    \n",
    "    def play(self):\n",
    "        pass\n",
    "\n",
    "    def __str__(self):\n",
    "        return \"%s is a %s\" % (self.name, self.species)\n",
    "    \n",
    "a = Pet(\"tommy\",'dog')\n",
    "b = Pet(\"jackie\", \"human\")\n",
    "\n",
    "print(a.play())\n",
    "import inspect\n",
    "inspect.getmembers(Pet, predicate=inspect.ismethod)\n"
   ]
  },
  {
   "cell_type": "code",
   "execution_count": null,
   "metadata": {
    "collapsed": true
   },
   "outputs": [],
   "source": []
  }
 ],
 "metadata": {
  "kernelspec": {
   "display_name": "Python [py27]",
   "language": "python",
   "name": "Python [py27]"
  },
  "language_info": {
   "codemirror_mode": {
    "name": "ipython",
    "version": 2
   },
   "file_extension": ".py",
   "mimetype": "text/x-python",
   "name": "python",
   "nbconvert_exporter": "python",
   "pygments_lexer": "ipython2",
   "version": "2.7.13"
  }
 },
 "nbformat": 4,
 "nbformat_minor": 0
}
