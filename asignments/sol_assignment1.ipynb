{
 "cells": [
  {
   "cell_type": "code",
   "execution_count": 214,
   "metadata": {
    "collapsed": true
   },
   "outputs": [
    {
     "name": "stdout",
     "output_type": "stream",
     "text": [
      "7\n"
     ]
    }
   ],
   "source": [
    "#question 1\n",
    "float_nunber = 7.5687\n",
    "integer_number = int(float_nunber)\n",
    "print(integer_number)"
   ]
  },
  {
   "cell_type": "code",
   "execution_count": 2,
   "metadata": {
    "collapsed": true
   },
   "outputs": [
    {
     "name": "stdout",
     "output_type": "stream",
     "text": [
      "('Variable_type', <type 'int'>, 19)\n",
      "('rounding off', <type 'float'>, 190.0)\n",
      "('Final_output', <type 'float'>, 19.0)\n",
      "('Variable_type', <type 'float'>, 27.57)\n",
      "('rounding off', <type 'float'>, 276.0)\n",
      "('Final_output', <type 'float'>, 27.6)\n"
     ]
    }
   ],
   "source": [
    "#question 2\n",
    "\n",
    "amount = [19, 27.57]\n",
    "for i in amount:\n",
    "    print(\"Variable_type\", type(i), i)  #checking variable type before manipulations\n",
    "    rounding_off = round(i*10)   # Rounding after multiplying by 10\n",
    "    print(\"rounding off\", type(rounding_off), rounding_off)  #Checking variable type before division\n",
    "    output_number = round(i*10)/10.0     \n",
    "    print(\"Final_output\", type(output_number) ,output_number)  #Final Values\n"
   ]
  },
  {
   "cell_type": "code",
   "execution_count": 222,
   "metadata": {
    "collapsed": false
   },
   "outputs": [
    {
     "name": "stdout",
     "output_type": "stream",
     "text": [
      "1\n",
      "2\n",
      "3\n",
      "5\n",
      "8\n",
      "13\n",
      "21\n"
     ]
    }
   ],
   "source": [
    "#question 3\n",
    "# This is a generator. We will get to it later. Its an advanced concept\n",
    "def fib(x1,x2):\n",
    "    while True:\n",
    "        x2,x1 = x1 + x2,x2\n",
    "        yield(x)\n",
    "\n",
    "for i in fib(0,1):\n",
    "    if i<30:\n",
    "        print(i)\n",
    "    else:\n",
    "        break"
   ]
  },
  {
   "cell_type": "code",
   "execution_count": 4,
   "metadata": {
    "collapsed": true
   },
   "outputs": [
    {
     "name": "stdout",
     "output_type": "stream",
     "text": [
      "(0, 'Fizzbuzz')\n",
      "1\n",
      "2\n",
      "(3, 'fizz')\n",
      "4\n",
      "(5, 'buzz')\n",
      "(6, 'fizz')\n",
      "7\n",
      "8\n",
      "(9, 'fizz')\n",
      "(10, 'buzz')\n",
      "11\n",
      "(12, 'fizz')\n",
      "13\n",
      "14\n",
      "(15, 'Fizzbuzz')\n",
      "16\n",
      "17\n",
      "(18, 'fizz')\n",
      "19\n",
      "(20, 'buzz')\n",
      "(21, 'fizz')\n",
      "22\n",
      "23\n",
      "(24, 'fizz')\n",
      "(25, 'buzz')\n",
      "26\n",
      "(27, 'fizz')\n",
      "28\n",
      "29\n",
      "(30, 'Fizzbuzz')\n",
      "31\n",
      "32\n",
      "(33, 'fizz')\n",
      "34\n",
      "(35, 'buzz')\n",
      "(36, 'fizz')\n",
      "37\n",
      "38\n",
      "(39, 'fizz')\n",
      "(40, 'buzz')\n",
      "41\n",
      "(42, 'fizz')\n",
      "43\n",
      "44\n",
      "(45, 'Fizzbuzz')\n",
      "46\n",
      "47\n",
      "(48, 'fizz')\n",
      "49\n",
      "(50, 'buzz')\n",
      "(51, 'fizz')\n",
      "52\n",
      "53\n",
      "(54, 'fizz')\n",
      "(55, 'buzz')\n",
      "56\n",
      "(57, 'fizz')\n",
      "58\n",
      "59\n",
      "(60, 'Fizzbuzz')\n",
      "61\n",
      "62\n",
      "(63, 'fizz')\n",
      "64\n",
      "(65, 'buzz')\n",
      "(66, 'fizz')\n",
      "67\n",
      "68\n",
      "(69, 'fizz')\n",
      "(70, 'buzz')\n",
      "71\n",
      "(72, 'fizz')\n",
      "73\n",
      "74\n",
      "(75, 'Fizzbuzz')\n",
      "76\n",
      "77\n",
      "(78, 'fizz')\n",
      "79\n",
      "(80, 'buzz')\n",
      "(81, 'fizz')\n",
      "82\n",
      "83\n",
      "(84, 'fizz')\n",
      "(85, 'buzz')\n",
      "86\n",
      "(87, 'fizz')\n",
      "88\n",
      "89\n",
      "(90, 'Fizzbuzz')\n",
      "91\n",
      "92\n",
      "(93, 'fizz')\n",
      "94\n",
      "(95, 'buzz')\n",
      "(96, 'fizz')\n",
      "97\n",
      "98\n",
      "(99, 'fizz')\n"
     ]
    }
   ],
   "source": [
    "#question 4\n",
    "\n",
    "def fizzbuzz(i,num1, num2):\n",
    "    if i%num1==0 and i%num2 ==0:      #Tells you a lot about python control flow. \n",
    "        return(i,'Fizzbuzz')\n",
    "    elif i%num1== 0:\n",
    "        return(i, 'fizz')\n",
    "    elif i%num2==0:\n",
    "        return(i, 'buzz')\n",
    "    else: return(i)\n",
    "        \n",
    "for i in range(0,100):\n",
    "    print(fizzbuzz(i,3,5))"
   ]
  },
  {
   "cell_type": "code",
   "execution_count": 9,
   "metadata": {
    "collapsed": true
   },
   "outputs": [
    {
     "name": "stdout",
     "output_type": "stream",
     "text": [
      "153\n",
      "370\n",
      "371\n",
      "407\n"
     ]
    }
   ],
   "source": [
    "#question 5\n",
    "\n",
    "def armstrong_number(n,last):\n",
    "    while True:\n",
    "        cubic_sum = sum(int(a)**3 for a in str(n))\n",
    "        if n ==cubic_sum:\n",
    "            yield n\n",
    "        n = n+1\n",
    "        if n >=last:\n",
    "            break\n",
    "\n",
    "for i in armstrong_number(100,1000):\n",
    "    print(i)"
   ]
  },
  {
   "cell_type": "code",
   "execution_count": 221,
   "metadata": {
    "collapsed": true
   },
   "outputs": [
    {
     "name": "stdout",
     "output_type": "stream",
     "text": [
      "[24754091881606615264L, 12377045940803307632L, 6188522970401653816L, 3094261485200826908L, 1547130742600413454L, 773565371300206727L, 2320696113900620182L, 1160348056950310091L, 3481044170850930274L, 1740522085425465137L, 5221566256276395412L, 2610783128138197706L, 1305391564069098853L, 3916174692207296560L, 1958087346103648280L, 979043673051824140L, 489521836525912070L, 244760918262956035L, 734282754788868106L, 367141377394434053L, 1101424132183302160L, 550712066091651080L, 275356033045825540L, 137678016522912770L, 68839008261456385L, 206517024784369156L, 103258512392184578L, 51629256196092289L, 154887768588276868L, 77443884294138434L, 38721942147069217L, 116165826441207652L, 58082913220603826L, 29041456610301913L, 87124369830905740L, 43562184915452870L, 21781092457726435L, 65343277373179306L, 32671638686589653L, 98014916059768960L, 49007458029884480L, 24503729014942240L, 12251864507471120L, 6125932253735560L, 3062966126867780L, 1531483063433890L, 765741531716945L, 2297224595150836L, 1148612297575418L, 574306148787709L, 1722918446363128L, 861459223181564L, 430729611590782L, 215364805795391L, 646094417386174L, 323047208693087L, 969141626079262L, 484570813039631L, 1453712439118894L, 726856219559447L, 2180568658678342L, 1090284329339171L, 3270852988017514L, 1635426494008757L, 4906279482026272L, 2453139741013136L, 1226569870506568L, 613284935253284L, 306642467626642L, 153321233813321L, 459963701439964L, 229981850719982L, 114990925359991L, 344972776079974L, 172486388039987L, 517459164119962L, 258729582059981L, 776188746179944L, 388094373089972L, 194047186544986L, 97023593272493L, 291070779817480L, 145535389908740L, 72767694954370L, 36383847477185L, 109151542431556L, 54575771215778L, 27287885607889L, 81863656823668L, 40931828411834L, 20465914205917L, 61397742617752L, 30698871308876L, 15349435654438L, 7674717827219L, 23024153481658L, 11512076740829L, 34536230222488L, 17268115111244L, 8634057555622L, 4317028777811L, 12951086333434L, 6475543166717L, 19426629500152L, 9713314750076L, 4856657375038L, 2428328687519L, 7284986062558L, 3642493031279L, 10927479093838L, 5463739546919L, 16391218640758L, 8195609320379L, 24586827961138L, 12293413980569L, 36880241941708L, 18440120970854L, 9220060485427L, 27660181456282L, 13830090728141L, 41490272184424L, 20745136092212L, 10372568046106L, 5186284023053L, 15558852069160L, 7779426034580L, 3889713017290L, 1944856508645L, 5834569525936L, 2917284762968L, 1458642381484L, 729321190742L, 364660595371L, 1093981786114L, 546990893057L, 1640972679172L, 820486339586L, 410243169793L, 1230729509380L, 615364754690L, 307682377345L, 923047132036L, 461523566018L, 230761783009L, 692285349028L, 346142674514L, 173071337257L, 519214011772L, 259607005886L, 129803502943L, 389410508830L, 194705254415L, 584115763246L, 292057881623L, 876173644870L, 438086822435L, 1314260467306L, 657130233653L, 1971390700960L, 985695350480L, 492847675240L, 246423837620L, 123211918810L, 61605959405L, 184817878216L, 92408939108L, 46204469554L, 23102234777L, 69306704332L, 34653352166L, 17326676083L, 51980028250L, 25990014125L, 77970042376L, 38985021188L, 19492510594L, 9746255297L, 29238765892L, 14619382946L, 7309691473L, 21929074420L, 10964537210L, 5482268605L, 16446805816L, 8223402908L, 4111701454L, 2055850727L, 6167552182L, 3083776091L, 9251328274L, 4625664137L, 13876992412L, 6938496206L, 3469248103L, 10407744310L, 5203872155L, 15611616466L, 7805808233L, 23417424700L, 11708712350L, 5854356175L, 17563068526L, 8781534263L, 26344602790L, 13172301395L, 39516904186L, 19758452093L, 59275356280L, 29637678140L, 14818839070L, 7409419535L, 22228258606L, 11114129303L, 33342387910L, 16671193955L, 50013581866L, 25006790933L, 75020372800L, 37510186400L, 18755093200L, 9377546600L, 4688773300L, 2344386650L, 1172193325L, 3516579976L, 1758289988L, 879144994L, 439572497L, 1318717492L, 659358746L, 329679373L, 989038120L, 494519060L, 247259530L, 123629765L, 370889296L, 185444648L, 92722324L, 46361162L, 23180581L, 69541744L, 34770872L, 17385436L, 8692718L, 4346359L, 13039078L, 6519539L, 19558618L, 9779309L, 29337928L, 14668964L, 7334482L, 3667241L, 11001724L, 5500862L, 2750431L, 8251294L, 4125647L, 12376942L, 6188471L, 18565414L, 9282707L, 27848122L, 13924061L, 41772184L, 20886092L, 10443046L, 5221523L, 15664570L, 7832285L, 23496856L, 11748428L, 5874214L, 2937107L, 8811322L, 4405661L, 13216984L, 6608492L, 3304246L, 1652123L, 4956370L, 2478185L, 7434556L, 3717278L, 1858639L, 5575918L, 2787959L, 8363878L, 4181939L, 12545818L, 6272909L, 18818728L, 9409364L, 4704682L, 2352341L, 7057024L, 3528512L, 1764256L, 882128L, 441064L, 220532L, 110266L, 55133L, 165400L, 82700L, 41350L, 20675L, 62026L, 31013L, 93040L, 46520L, 23260L, 11630L, 5815L, 17446L, 8723L, 26170L, 13085L, 39256L, 19628L, 9814L, 4907L, 14722L, 7361L, 22084L, 11042L, 5521L, 16564L, 8282L, 4141L, 12424L, 6212L, 3106L, 1553L, 4660L, 2330L, 1165L, 3496L, 1748L, 874L, 437L, 1312L, 656L, 328L, 164L, 82L, 41L, 124L, 62L, 31L, 94L, 47L, 142L, 71L, 214L, 107L, 322L, 161L, 484L, 242L, 121L, 364L, 182L, 91L, 274L, 137L, 412L, 206L, 103L, 310L, 155L, 466L, 233L, 700L, 350L, 175L, 526L, 263L, 790L, 395L, 1186L, 593L, 1780L, 890L, 445L, 1336L, 668L, 334L, 167L, 502L, 251L, 754L, 377L, 1132L, 566L, 283L, 850L, 425L, 1276L, 638L, 319L, 958L, 479L, 1438L, 719L, 2158L, 1079L, 3238L, 1619L, 4858L, 2429L, 7288L, 3644L, 1822L, 911L, 2734L, 1367L, 4102L, 2051L, 6154L, 3077L, 9232L, 4616L, 2308L, 1154L, 577L, 1732L, 866L, 433L, 1300L, 650L, 325L, 976L, 488L, 244L, 122L, 61L, 184L, 92L, 46L, 23L, 70L, 35L, 106L, 53L, 160L, 80L, 40L, 20L, 10L, 5L, 16L, 8L, 4L, 2L, 1L]\n"
     ]
    }
   ],
   "source": [
    "#question 6\n",
    "import random\n",
    "import sys\n",
    "\n",
    "def collatz(a = random.randint(0,sys.maxsize)):    #create any random number or you can take user input\n",
    "    while a > 1:\n",
    "        last_digit = int(str(a)[-1])\n",
    "        if last_digit%2==0:\n",
    "            new_number = a/2\n",
    "        else:\n",
    "            new_number = (a*3)+1\n",
    "        yield(new_number)\n",
    "        a = new_number\n",
    "\n",
    "output_list = []\n",
    "for i in collatz():\n",
    "    output_list.append(i)\n",
    "print(output_list)   # 'L' in output just shows the type of varialble "
   ]
  },
  {
   "cell_type": "code",
   "execution_count": 153,
   "metadata": {
    "collapsed": false
   },
   "outputs": [],
   "source": [
    "import time    #Ignore this code, I was testing some performance differences.\n",
    "import sys\n",
    "a = sys.maxsize\n",
    "before = time.time()\n",
    "b = a/2\n",
    "after = time.time()"
   ]
  },
  {
   "cell_type": "code",
   "execution_count": 220,
   "metadata": {
    "collapsed": true
   },
   "outputs": [
    {
     "name": "stdout",
     "output_type": "stream",
     "text": [
      "Enter '0' for the program to autorun or,\n",
      "Type a 4 digit number a four digit number–with at least two digits different8793\n",
      "8793\n",
      "6084\n",
      "8172\n",
      "7443\n",
      "3996\n",
      "6264\n",
      "4176\n",
      "6174\n"
     ]
    }
   ],
   "source": [
    "#question 7\n",
    "import random\n",
    "\n",
    "def check_input_number(n):\n",
    "    digits = []\n",
    "    for i in str(n):\n",
    "        if i in digits:pass\n",
    "        else: digits.append(i)\n",
    "    if len(digits)>1: return True\n",
    "    else: return False\n",
    "\n",
    "def input_generator():\n",
    "    number = random.randint(1000,9999)\n",
    "    if check_input_number(number) == False: input_generator()\n",
    "    else:return(number)\n",
    "    \n",
    "def input_method():\n",
    "    input_query = raw_input(\"Enter '0' for the program to autorun or,\\nType a 4 digit number a four digit number–with at least two digits different\")\n",
    "    if input_query =='0':\n",
    "        start_number = input_generator()\n",
    "        return start_number\n",
    "    else: \n",
    "        start_number = int(input_query)\n",
    "        if check_input_number(start_number)==False:\n",
    "            input_method()\n",
    "        else : return start_number\n",
    "\n",
    "def manipulation(n):\n",
    "    asc = int(\"\".join(sorted(str(n))))\n",
    "    dsc = int(\"\".join(sorted(str(n),reverse=True)))\n",
    "    x= dsc-asc\n",
    "    #print(x)\n",
    "    yield(n)\n",
    "    if n ==x:\n",
    "        yield(\"Kaprekar’s constant\")\n",
    "    else:\n",
    "        for i in manipulation(x):\n",
    "            yield i\n",
    "number = input_method()\n",
    "for i in manipulation(number):\n",
    "    if i == \"Kaprekar’s constant\":\n",
    "        break\n",
    "    print(i)"
   ]
  },
  {
   "cell_type": "code",
   "execution_count": 171,
   "metadata": {
    "collapsed": true
   },
   "outputs": [
    {
     "name": "stdout",
     "output_type": "stream",
     "text": [
      "LO\n"
     ]
    }
   ],
   "source": []
  },
  {
   "cell_type": "code",
   "execution_count": null,
   "metadata": {
    "collapsed": true
   },
   "outputs": [],
   "source": []
  }
 ],
 "metadata": {
  "anaconda-cloud": {},
  "kernelspec": {
   "display_name": "Python [py27]",
   "language": "python",
   "name": "Python [py27]"
  },
  "language_info": {
   "codemirror_mode": {
    "name": "ipython",
    "version": 2
   },
   "file_extension": ".py",
   "mimetype": "text/x-python",
   "name": "python",
   "nbconvert_exporter": "python",
   "pygments_lexer": "ipython2",
   "version": "2.7.13"
  }
 },
 "nbformat": 4,
 "nbformat_minor": 0
}
