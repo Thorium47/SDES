{
 "cells": [
  {
   "cell_type": "code",
   "execution_count": 214,
   "metadata": {
    "collapsed": true
   },
   "outputs": [
    {
     "name": "stdout",
     "output_type": "stream",
     "text": [
      "7\n"
     ]
    }
   ],
   "source": [
    "#question 1\n",
    "float_nunber = 7.5687\n",
    "integer_number = int(float_nunber)\n",
    "print(integer_number)"
   ]
  },
  {
   "cell_type": "code",
   "execution_count": 2,
   "metadata": {
    "collapsed": true
   },
   "outputs": [
    {
     "name": "stdout",
     "output_type": "stream",
     "text": [
      "('Variable_type', <type 'int'>, 19)\n",
      "('rounding off', <type 'float'>, 190.0)\n",
      "('Final_output', <type 'float'>, 19.0)\n",
      "('Variable_type', <type 'float'>, 27.57)\n",
      "('rounding off', <type 'float'>, 276.0)\n",
      "('Final_output', <type 'float'>, 27.6)\n"
     ]
    }
   ],
   "source": [
    "#question 2\n",
    "\n",
    "amount = [19, 27.57]\n",
    "for i in amount:\n",
    "    print(\"Variable_type\", type(i), i)  #checking variable type before manipulations\n",
    "    rounding_off = round(i*10)   # Rounding after multiplying by 10\n",
    "    print(\"rounding off\", type(rounding_off), rounding_off)  #Checking variable type before division\n",
    "    output_number = round(i*10)/10.0     \n",
    "    print(\"Final_output\", type(output_number) ,output_number)  #Final Values\n"
   ]
  },
  {
   "cell_type": "code",
   "execution_count": 19,
   "metadata": {
    "collapsed": false
   },
   "outputs": [
    {
     "name": "stdout",
     "output_type": "stream",
     "text": [
      "1\n",
      "2\n",
      "3\n",
      "5\n",
      "8\n",
      "13\n",
      "21\n"
     ]
    }
   ],
   "source": [
    "#question 3\n",
    "# This is a generator. We will get to it later. Its an advanced concept\n",
    "def fib(x1,x2):\n",
    "    while True is True:\n",
    "        x2,x1 = x1 + x2,x2\n",
    "        yield x2\n",
    "        \n",
    "l1 = [5,8,2,3]\n",
    "\n",
    "for i in fib(0,1):\n",
    "    if i<30:\n",
    "        print(i)\n",
    "    else:\n",
    "        break\n",
    "    "
   ]
  },
  {
   "cell_type": "code",
   "execution_count": 25,
   "metadata": {
    "collapsed": false
   },
   "outputs": [
    {
     "name": "stdout",
     "output_type": "stream",
     "text": [
      "(0, 'Fizzbuzz')\n",
      "1\n",
      "2\n",
      "(3, 'fizz')\n",
      "4\n",
      "(5, 'buzz')\n",
      "(6, 'fizz')\n",
      "7\n",
      "8\n",
      "(9, 'fizz')\n",
      "(10, 'buzz')\n",
      "11\n",
      "(12, 'fizz')\n",
      "13\n",
      "14\n",
      "(15, 'Fizzbuzz')\n",
      "16\n",
      "17\n",
      "(18, 'fizz')\n",
      "19\n",
      "(20, 'buzz')\n",
      "(21, 'fizz')\n",
      "22\n",
      "23\n",
      "(24, 'fizz')\n",
      "(25, 'buzz')\n",
      "26\n",
      "(27, 'fizz')\n",
      "28\n",
      "29\n",
      "(30, 'Fizzbuzz')\n",
      "31\n",
      "32\n",
      "(33, 'fizz')\n",
      "34\n",
      "(35, 'buzz')\n",
      "(36, 'fizz')\n",
      "37\n",
      "38\n",
      "(39, 'fizz')\n",
      "(40, 'buzz')\n",
      "41\n",
      "(42, 'fizz')\n",
      "43\n",
      "44\n",
      "(45, 'Fizzbuzz')\n",
      "46\n",
      "47\n",
      "(48, 'fizz')\n",
      "49\n",
      "(50, 'buzz')\n",
      "(51, 'fizz')\n",
      "52\n",
      "53\n",
      "(54, 'fizz')\n",
      "(55, 'buzz')\n",
      "56\n",
      "(57, 'fizz')\n",
      "58\n",
      "59\n",
      "(60, 'Fizzbuzz')\n",
      "61\n",
      "62\n",
      "(63, 'fizz')\n",
      "64\n",
      "(65, 'buzz')\n",
      "(66, 'fizz')\n",
      "67\n",
      "68\n",
      "(69, 'fizz')\n",
      "(70, 'buzz')\n",
      "71\n",
      "(72, 'fizz')\n",
      "73\n",
      "74\n",
      "(75, 'Fizzbuzz')\n",
      "76\n",
      "77\n",
      "(78, 'fizz')\n",
      "79\n",
      "(80, 'buzz')\n",
      "(81, 'fizz')\n",
      "82\n",
      "83\n",
      "(84, 'fizz')\n",
      "(85, 'buzz')\n",
      "86\n",
      "(87, 'fizz')\n",
      "88\n",
      "89\n",
      "(90, 'Fizzbuzz')\n",
      "91\n",
      "92\n",
      "(93, 'fizz')\n",
      "94\n",
      "(95, 'buzz')\n",
      "(96, 'fizz')\n",
      "97\n",
      "98\n",
      "(99, 'fizz')\n"
     ]
    }
   ],
   "source": [
    "#question 4\n",
    "\n",
    "def fizzbuzz(i,num1, num2):\n",
    "    if i%num1==0 and i%num2 ==0:      #Tells you a lot about python control flow. \n",
    "        return(i,'Fizzbuzz')\n",
    "    elif i%num1== 0:\n",
    "        return(i, 'fizz')\n",
    "    elif i%num2==0:\n",
    "        return(i, 'buzz')\n",
    "    else: return(i)\n",
    "        \n",
    "for i in range(0,100):\n",
    "    print(fizzbuzz(i,3,5))"
   ]
  },
  {
   "cell_type": "code",
   "execution_count": 26,
   "metadata": {
    "collapsed": false
   },
   "outputs": [
    {
     "name": "stdout",
     "output_type": "stream",
     "text": [
      "153\n",
      "370\n",
      "371\n",
      "407\n"
     ]
    }
   ],
   "source": [
    "#question 5\n",
    "\n",
    "def armstrong_number(n,last):\n",
    "    while True:\n",
    "        cubic_sum = sum(int(a)**3 for a in str(n))\n",
    "        if n ==cubic_sum:\n",
    "            yield n\n",
    "        n = n+1\n",
    "        if n >=last:\n",
    "            break\n",
    "\n",
    "for i in armstrong_number(100,999):\n",
    "    print(i)"
   ]
  },
  {
   "cell_type": "code",
   "execution_count": 53,
   "metadata": {
    "collapsed": false
   },
   "outputs": [
    {
     "ename": "KeyboardInterrupt",
     "evalue": "",
     "output_type": "error",
     "traceback": [
      "\u001b[0;31m---------------------------------------------------------------------------\u001b[0m",
      "\u001b[0;31mKeyboardInterrupt\u001b[0m                         Traceback (most recent call last)",
      "\u001b[0;32m<ipython-input-53-faa5c64a85d1>\u001b[0m in \u001b[0;36m<module>\u001b[0;34m()\u001b[0m\n\u001b[1;32m     16\u001b[0m \u001b[0;34m\u001b[0m\u001b[0m\n\u001b[1;32m     17\u001b[0m \u001b[0moutput_list\u001b[0m \u001b[0;34m=\u001b[0m \u001b[0;34m[\u001b[0m\u001b[0;34m]\u001b[0m\u001b[0;34m\u001b[0m\u001b[0m\n\u001b[0;32m---> 18\u001b[0;31m \u001b[0;32mfor\u001b[0m \u001b[0mi\u001b[0m \u001b[0;32min\u001b[0m \u001b[0mcollatz\u001b[0m\u001b[0;34m(\u001b[0m\u001b[0;34m)\u001b[0m\u001b[0;34m:\u001b[0m\u001b[0;34m\u001b[0m\u001b[0m\n\u001b[0m\u001b[1;32m     19\u001b[0m     \u001b[0moutput_list\u001b[0m\u001b[0;34m.\u001b[0m\u001b[0mappend\u001b[0m\u001b[0;34m(\u001b[0m\u001b[0mi\u001b[0m\u001b[0;34m)\u001b[0m\u001b[0;34m\u001b[0m\u001b[0m\n\u001b[1;32m     20\u001b[0m \u001b[0;34m\u001b[0m\u001b[0m\n",
      "\u001b[0;32m<ipython-input-53-faa5c64a85d1>\u001b[0m in \u001b[0;36mcollatz\u001b[0;34m(a)\u001b[0m\n\u001b[1;32m      6\u001b[0m \u001b[0;32mdef\u001b[0m \u001b[0mcollatz\u001b[0m\u001b[0;34m(\u001b[0m\u001b[0ma\u001b[0m \u001b[0;34m=\u001b[0m \u001b[0mrandom\u001b[0m\u001b[0;34m.\u001b[0m\u001b[0mrandint\u001b[0m\u001b[0;34m(\u001b[0m\u001b[0;36m0\u001b[0m\u001b[0;34m,\u001b[0m\u001b[0msys\u001b[0m\u001b[0;34m.\u001b[0m\u001b[0mmaxsize\u001b[0m\u001b[0;34m/\u001b[0m\u001b[0;36m4\u001b[0m\u001b[0;34m)\u001b[0m\u001b[0;34m)\u001b[0m\u001b[0;34m:\u001b[0m    \u001b[0;31m#create any random number or you can take user input\u001b[0m\u001b[0;34m\u001b[0m\u001b[0m\n\u001b[1;32m      7\u001b[0m     \u001b[0;32mwhile\u001b[0m \u001b[0ma\u001b[0m \u001b[0;34m>\u001b[0m \u001b[0;36m1\u001b[0m\u001b[0;34m:\u001b[0m\u001b[0;34m\u001b[0m\u001b[0m\n\u001b[0;32m----> 8\u001b[0;31m         \u001b[0mlast_digit\u001b[0m \u001b[0;34m=\u001b[0m \u001b[0mint\u001b[0m\u001b[0;34m(\u001b[0m\u001b[0mstr\u001b[0m\u001b[0;34m(\u001b[0m\u001b[0ma\u001b[0m\u001b[0;34m)\u001b[0m\u001b[0;34m[\u001b[0m\u001b[0;34m-\u001b[0m\u001b[0;36m1\u001b[0m\u001b[0;34m]\u001b[0m\u001b[0;34m)\u001b[0m\u001b[0;34m\u001b[0m\u001b[0m\n\u001b[0m\u001b[1;32m      9\u001b[0m         \u001b[0;32mif\u001b[0m \u001b[0mlast_digit\u001b[0m\u001b[0;34m%\u001b[0m\u001b[0;36m2\u001b[0m\u001b[0;34m==\u001b[0m\u001b[0;36m0\u001b[0m\u001b[0;34m:\u001b[0m\u001b[0;34m\u001b[0m\u001b[0m\n\u001b[1;32m     10\u001b[0m             \u001b[0mnew_number\u001b[0m \u001b[0;34m=\u001b[0m \u001b[0ma\u001b[0m\u001b[0;34m/\u001b[0m\u001b[0;36m2\u001b[0m\u001b[0;34m\u001b[0m\u001b[0m\n",
      "\u001b[0;31mKeyboardInterrupt\u001b[0m: "
     ]
    }
   ],
   "source": [
    "#question 6\n",
    "import random\n",
    "import sys\n",
    "\n",
    "\n",
    "def collatz(a = random.randint(0,sys.maxsize/4)):    #create any random number or you can take user input\n",
    "    while a > 1:\n",
    "        last_digit = int(str(a)[-1])\n",
    "        if last_digit%2==0:\n",
    "            new_number = a/2\n",
    "        else:\n",
    "            new_number = (a*3)+1\n",
    "        yield(new_number)\n",
    "        global KL\n",
    "        kl =5\n",
    "\n",
    "output_list = []\n",
    "for i in collatz():\n",
    "    output_list.append(i)\n",
    "    \n",
    "print(kl,type(i))\n",
    "print(output_list)   # 'L' in output just shows the type of varialble "
   ]
  },
  {
   "cell_type": "code",
   "execution_count": 32,
   "metadata": {
    "collapsed": false
   },
   "outputs": [
    {
     "name": "stdout",
     "output_type": "stream",
     "text": [
      "9223372036854775807\n"
     ]
    }
   ],
   "source": [
    "import time    #Ignore this code, I was testing some performance differences.\n",
    "import sys\n",
    "print(sys.maxsize)"
   ]
  },
  {
   "cell_type": "code",
   "execution_count": 57,
   "metadata": {
    "collapsed": false
   },
   "outputs": [
    {
     "name": "stdout",
     "output_type": "stream",
     "text": [
      "Enter '0' for the program to autorun or,\n",
      "Type a 4 digit number with at least two digits different0\n",
      "('check', '7')\n",
      "('check', '9')\n",
      "('check', '5')\n",
      "('check', '8')\n",
      "7958\n",
      "4086\n",
      "8172\n",
      "7443\n",
      "3996\n",
      "6264\n",
      "4176\n",
      "6174\n"
     ]
    }
   ],
   "source": [
    "#question 7\n",
    "import random\n",
    "\n",
    "def check_input_number(n):\n",
    "    digits = []\n",
    "    for i in str(n):\n",
    "        print(\"check\", i)     #[4,6,7]  4467  7746  4444  5555   [4]\n",
    "        if i in digits:pass\n",
    "        else: digits.append(i)\n",
    "    if len(digits)>1: return True\n",
    "    else: return False\n",
    "\n",
    "def input_generator():\n",
    "    number = random.randint(1000,9999)\n",
    "    if check_input_number(number) == False: input_generator()\n",
    "    else:return(number)\n",
    "    \n",
    "def input_method():\n",
    "    input_query = raw_input(\"Enter '0' for the program to autorun or,\\nType a 4 digit number with at least two digits different\")\n",
    "    if input_query =='0':\n",
    "        start_number = input_generator()\n",
    "        return start_number\n",
    "    else: \n",
    "        start_number = int(input_query)\n",
    "        if check_input_number(start_number)==False:\n",
    "            input_method()\n",
    "        else : return start_number\n",
    "\n",
    "def manipulation(n):\n",
    "    asc = int(\"\".join(sorted(str(n))))\n",
    "    dsc = int(\"\".join(sorted(str(n),reverse=True)))\n",
    "    x= dsc-asc\n",
    "    #print(x)\n",
    "    yield(n)\n",
    "    if n ==x:\n",
    "        yield(\"Kaprekar’s constant\")\n",
    "    else:\n",
    "        for i in manipulation(x):\n",
    "            yield i\n",
    "            \n",
    "number = input_method()\n",
    "\n",
    "for i in manipulation(number):\n",
    "    if i == \"Kaprekar’s constant\":\n",
    "        break\n",
    "    print(i)"
   ]
  },
  {
   "cell_type": "code",
   "execution_count": 66,
   "metadata": {
    "collapsed": false,
    "scrolled": true
   },
   "outputs": [
    {
     "name": "stdout",
     "output_type": "stream",
     "text": [
      "Rahul\n",
      "shubham\n",
      "rahul\n",
      "ram\n",
      "saurabh\n"
     ]
    }
   ],
   "source": [
    "#dictionary\n",
    "\n",
    "d = {\"saurabh\":\"56\", \"ram\" : 20, \"rahul\" : 16}\n",
    "l = [5,6,8,98]\n",
    "d['shubham'] = \"23\"\n",
    "d['Rahul'] = \"30\"\n",
    "d[\"shubham\"] = \"37\"\n",
    "\n",
    "for i in d:\n",
    "    print(i)\n"
   ]
  },
  {
   "cell_type": "code",
   "execution_count": null,
   "metadata": {
    "collapsed": true
   },
   "outputs": [],
   "source": [
    "data = {\"text\": \"tweet\", \"user\": \"name\", \"id\":\"number\"}"
   ]
  },
  {
   "cell_type": "code",
   "execution_count": null,
   "metadata": {
    "collapsed": true
   },
   "outputs": [],
   "source": []
  }
 ],
 "metadata": {
  "anaconda-cloud": {},
  "kernelspec": {
   "display_name": "Python [py27]",
   "language": "python",
   "name": "Python [py27]"
  }
 },
 "nbformat": 4,
 "nbformat_minor": 0
}
