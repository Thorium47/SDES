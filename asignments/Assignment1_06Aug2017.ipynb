{
 "cells": [
  {
   "cell_type": "code",
   "execution_count": 1,
   "metadata": {
    "collapsed": false
   },
   "outputs": [
    {
     "data": {
      "text/plain": [
       "2.5"
      ]
     },
     "execution_count": 1,
     "metadata": {},
     "output_type": "execute_result"
    }
   ],
   "source": [
    "round(2.484,1)"
   ]
  },
  {
   "cell_type": "code",
   "execution_count": 19,
   "metadata": {
    "collapsed": false,
    "scrolled": true
   },
   "outputs": [
    {
     "name": "stdout",
     "output_type": "stream",
     "text": [
      "3\n"
     ]
    }
   ],
   "source": [
    "a=2.543\n",
    "c=int(a)\n",
    "print c"
   ]
  },
  {
   "cell_type": "code",
   "execution_count": 26,
   "metadata": {
    "collapsed": false
   },
   "outputs": [
    {
     "name": "stdout",
     "output_type": "stream",
     "text": [
      "1\n",
      "1\n",
      "2\n",
      "3\n",
      "5\n",
      "8\n",
      "13\n",
      "21\n"
     ]
    }
   ],
   "source": [
    "a=0\n",
    "b=1\n",
    "x=b\n",
    "while x<30:\n",
    "    print x\n",
    "    x=a+b\n",
    "    a=b\n",
    "    b=x   \n",
    "   "
   ]
  },
  {
   "cell_type": "code",
   "execution_count": 41,
   "metadata": {
    "collapsed": false
   },
   "outputs": [
    {
     "name": "stdout",
     "output_type": "stream",
     "text": [
      "1\n",
      "2\n",
      "Fizz\n",
      "4\n",
      "Buzz\n",
      "Fizz\n",
      "7\n",
      "8\n",
      "Fizz\n",
      "Buzz\n",
      "11\n",
      "Fizz\n",
      "13\n",
      "14\n",
      "FizzBuzz\n",
      "16\n",
      "17\n",
      "Fizz\n",
      "19\n",
      "Buzz\n",
      "Fizz\n",
      "22\n",
      "23\n",
      "Fizz\n",
      "Buzz\n",
      "26\n",
      "Fizz\n",
      "28\n",
      "29\n",
      "FizzBuzz\n",
      "31\n",
      "32\n",
      "Fizz\n",
      "34\n",
      "Buzz\n",
      "Fizz\n",
      "37\n",
      "38\n",
      "Fizz\n",
      "Buzz\n",
      "41\n",
      "Fizz\n",
      "43\n",
      "44\n",
      "FizzBuzz\n",
      "46\n",
      "47\n",
      "Fizz\n",
      "49\n",
      "Buzz\n",
      "Fizz\n",
      "52\n",
      "53\n",
      "Fizz\n",
      "Buzz\n",
      "56\n",
      "Fizz\n",
      "58\n",
      "59\n",
      "FizzBuzz\n",
      "61\n",
      "62\n",
      "Fizz\n",
      "64\n",
      "Buzz\n",
      "Fizz\n",
      "67\n",
      "68\n",
      "Fizz\n",
      "Buzz\n",
      "71\n",
      "Fizz\n",
      "73\n",
      "74\n",
      "FizzBuzz\n",
      "76\n",
      "77\n",
      "Fizz\n",
      "79\n",
      "Buzz\n",
      "Fizz\n",
      "82\n",
      "83\n",
      "Fizz\n",
      "Buzz\n",
      "86\n",
      "Fizz\n",
      "88\n",
      "89\n",
      "FizzBuzz\n",
      "91\n",
      "92\n",
      "Fizz\n",
      "94\n",
      "Buzz\n",
      "Fizz\n",
      "97\n",
      "98\n",
      "Fizz\n",
      "Buzz\n",
      "program completed\n"
     ]
    }
   ],
   "source": [
    "a=0\n",
    "while a<100:\n",
    "    a=a+1\n",
    "    if (a%3==0 and a%5==0):\n",
    "        print 'FizzBuzz'\n",
    "        #continue\n",
    "    elif a%5==0:\n",
    "        print 'Buzz'\n",
    "        #continue\n",
    "    elif a%3==0:\n",
    "        print 'Fizz'\n",
    "        #continue\n",
    "    else:\n",
    "        print a\n",
    "print 'program completed'"
   ]
  },
  {
   "cell_type": "code",
   "execution_count": 72,
   "metadata": {
    "collapsed": false
   },
   "outputs": [
    {
     "name": "stdout",
     "output_type": "stream",
     "text": [
      "success\n",
      "153\n",
      "success\n",
      "370\n",
      "success\n",
      "371\n",
      "success\n",
      "407\n"
     ]
    }
   ],
   "source": [
    "x='100'\n",
    "x=int(x)\n",
    "while x < 1000:\n",
    "    x=x+1\n",
    "    x=str(x)\n",
    "    a=x[0]\n",
    "    b=x[1]\n",
    "    c=x[2]\n",
    "    x=int(x)\n",
    "    y=int(a)**3+int(b)**3+int(c)**3\n",
    "    if x==y:\n",
    "        print 'success'\n",
    "        print x"
   ]
  },
  {
   "cell_type": "code",
   "execution_count": null,
   "metadata": {
    "collapsed": true
   },
   "outputs": [],
   "source": []
  },
  {
   "cell_type": "code",
   "execution_count": 1,
   "metadata": {
    "collapsed": false
   },
   "outputs": [
    {
     "name": "stdout",
     "output_type": "stream",
     "text": [
      "Enter a positive number greater than 1050084\n",
      "25042\n",
      "12521\n",
      "37564\n",
      "18782\n",
      "9391\n",
      "28174\n",
      "14087\n",
      "42262\n",
      "21131\n",
      "63394\n",
      "31697\n",
      "95092\n",
      "47546\n",
      "23773\n",
      "71320\n",
      "35660\n",
      "17830\n",
      "8915\n",
      "26746\n",
      "13373\n",
      "40120\n",
      "20060\n",
      "10030\n",
      "5015\n",
      "15046\n",
      "7523\n",
      "22570\n",
      "11285\n",
      "33856\n",
      "16928\n",
      "8464\n",
      "4232\n",
      "2116\n",
      "1058\n",
      "529\n",
      "1588\n",
      "794\n",
      "397\n",
      "1192\n",
      "596\n",
      "298\n",
      "149\n",
      "448\n",
      "224\n",
      "112\n",
      "56\n",
      "28\n",
      "14\n",
      "7\n",
      "22\n",
      "11\n",
      "34\n",
      "17\n",
      "52\n",
      "26\n",
      "13\n",
      "40\n",
      "20\n",
      "10\n",
      "5\n",
      "16\n",
      "8\n",
      "4\n",
      "2\n",
      "1\n"
     ]
    }
   ],
   "source": [
    "a = raw_input (\"Enter a positive number greater than 10\")\n",
    "x=int(a)\n",
    "while x>1:\n",
    "    if int(a)%2==0:\n",
    "        x=int(a)/2\n",
    "    else:\n",
    "        x=int(a)*3+1\n",
    "    print x  \n",
    "    a=x"
   ]
  },
  {
   "cell_type": "code",
   "execution_count": 6,
   "metadata": {
    "collapsed": false,
    "scrolled": true
   },
   "outputs": [
    {
     "name": "stdout",
     "output_type": "stream",
     "text": [
      "enter a 4 digit number with at least two unequal numbers4545\n",
      "4545\n",
      "4455\n",
      "5544\n",
      "1089\n",
      "0189\n",
      "9810\n",
      "9621\n",
      "1269\n",
      "9621\n",
      "8352\n",
      "2358\n",
      "8532\n",
      "6174\n",
      "program completed\n"
     ]
    }
   ],
   "source": [
    "a = raw_input ('enter a 4 digit number with at least two unequal numbers')\n",
    "print a\n",
    "x=int(a)\n",
    "while x!=6174:\n",
    "    asc = \"\".join(sorted(str(a)))\n",
    "    dsc = \"\".join(sorted(str(a),reverse=True))\n",
    "    print asc\n",
    "    print dsc\n",
    "    x=int(dsc)-int(asc)\n",
    "    a=x\n",
    "    print x\n",
    "print 'program completed'"
   ]
  },
  {
   "cell_type": "code",
   "execution_count": null,
   "metadata": {
    "collapsed": true
   },
   "outputs": [],
   "source": []
  }
 ],
 "metadata": {
  "kernelspec": {
   "display_name": "Python [py27]",
   "language": "python",
   "name": "Python [py27]"
  },
  "language_info": {
   "codemirror_mode": {
    "name": "ipython",
    "version": 2
   },
   "file_extension": ".py",
   "mimetype": "text/x-python",
   "name": "python",
   "nbconvert_exporter": "python",
   "pygments_lexer": "ipython2",
   "version": "2.7.13"
  }
 },
 "nbformat": 4,
 "nbformat_minor": 2
}
